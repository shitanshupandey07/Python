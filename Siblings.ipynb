{
  "nbformat": 4,
  "nbformat_minor": 0,
  "metadata": {
    "colab": {
      "name": "Siblings.ipynb",
      "provenance": [],
      "collapsed_sections": [],
      "authorship_tag": "ABX9TyNJpInA30NKciNQ/6iiRj89",
      "include_colab_link": true
    },
    "kernelspec": {
      "name": "python3",
      "display_name": "Python 3"
    },
    "language_info": {
      "name": "python"
    }
  },
  "cells": [
    {
      "cell_type": "markdown",
      "metadata": {
        "id": "view-in-github",
        "colab_type": "text"
      },
      "source": [
        "<a href=\"https://colab.research.google.com/github/shitanshupandey07/Python/blob/main/Siblings.ipynb\" target=\"_parent\"><img src=\"https://colab.research.google.com/assets/colab-badge.svg\" alt=\"Open In Colab\"/></a>"
      ]
    },
    {
      "cell_type": "code",
      "execution_count": 2,
      "metadata": {
        "colab": {
          "base_uri": "https://localhost:8080/"
        },
        "id": "PjDD3a61BJgb",
        "outputId": "c8fc9ec8-8e6f-4a74-b6bb-be748da44d28"
      },
      "outputs": [
        {
          "output_type": "stream",
          "name": "stdout",
          "text": [
            "How many siblings you have?2\n",
            "Please enter comma seperated name(s) of siblingsSony, Mony\n",
            "Lucky you!, You have got: 2 siblings their names are: Sony, Mony\n"
          ]
        }
      ],
      "source": [
        "sibUserInput = input(\"How many siblings you have?\")\n",
        "sibNamesInput = input(\"Please enter comma seperated name(s) of siblings\")\n",
        "print(\"Lucky you!, You have got: \" + sibUserInput + \" siblings\" , \"their names are: \" + sibNamesInput)"
      ]
    }
  ]
}