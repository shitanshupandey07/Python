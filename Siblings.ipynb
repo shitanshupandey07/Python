{
  "nbformat": 4,
  "nbformat_minor": 0,
  "metadata": {
    "colab": {
      "name": "Siblings.ipynb",
      "provenance": [],
      "collapsed_sections": [],
      "authorship_tag": "ABX9TyN1ztJWRPhwfUVHjj0ZqPJ5",
      "include_colab_link": true
    },
    "kernelspec": {
      "name": "python3",
      "display_name": "Python 3"
    },
    "language_info": {
      "name": "python"
    }
  },
  "cells": [
    {
      "cell_type": "markdown",
      "metadata": {
        "id": "view-in-github",
        "colab_type": "text"
      },
      "source": [
        "<a href=\"https://colab.research.google.com/github/shitanshupandey07/Python/blob/main/Siblings.ipynb\" target=\"_parent\"><img src=\"https://colab.research.google.com/assets/colab-badge.svg\" alt=\"Open In Colab\"/></a>"
      ]
    },
    {
      "cell_type": "code",
      "execution_count": 4,
      "metadata": {
        "colab": {
          "base_uri": "https://localhost:8080/"
        },
        "id": "PjDD3a61BJgb",
        "outputId": "50ace374-a053-4d62-f4c3-43ee5b3a4139"
      },
      "outputs": [
        {
          "output_type": "stream",
          "name": "stdout",
          "text": [
            "How many siblings you have?2\n",
            "Please enter comma seperated name(s) of siblingssoni, moni\n",
            "Congratulations you have: 2 siblings thier names are: soni, moni\n"
          ]
        }
      ],
      "source": [
        "sibUserInput = input(\"How many siblings you have?\")\n",
        "sibNamesInput = input(\"Please enter comma seperated name(s) of siblings\")\n",
        "print(\"Congratulations you have: \" + sibUserInput + \" siblings\" , \"thier names are: \" + sibNamesInput)"
      ]
    }
  ]
}