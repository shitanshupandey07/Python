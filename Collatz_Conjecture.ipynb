{
  "nbformat": 4,
  "nbformat_minor": 0,
  "metadata": {
    "colab": {
      "name": "Collatz Conjecture.ipynb",
      "provenance": [],
      "authorship_tag": "ABX9TyM3JteOU5NvA4g5avTOSFqM",
      "include_colab_link": true
    },
    "kernelspec": {
      "name": "python3",
      "display_name": "Python 3"
    },
    "language_info": {
      "name": "python"
    }
  },
  "cells": [
    {
      "cell_type": "markdown",
      "metadata": {
        "id": "view-in-github",
        "colab_type": "text"
      },
      "source": [
        "<a href=\"https://colab.research.google.com/github/shitanshupandey07/Python/blob/main/Collatz_Conjecture.ipynb\" target=\"_parent\"><img src=\"https://colab.research.google.com/assets/colab-badge.svg\" alt=\"Open In Colab\"/></a>"
      ]
    },
    {
      "cell_type": "code",
      "execution_count": 32,
      "metadata": {
        "id": "1Pc10ISPhe5s",
        "colab": {
          "base_uri": "https://localhost:8080/"
        },
        "outputId": "7aef1e1c-aa19-425d-a28c-97133632c500"
      },
      "outputs": [
        {
          "name": "stdout",
          "output_type": "stream",
          "text": [
            "Please enter a number to check if that ends with 4,2,1: \n",
            "16\n"
          ]
        }
      ],
      "source": [
        "testCollatz_Conjecture = input(\"Please enter a number to check if that ends with 4,2,1: \\n\")"
      ]
    },
    {
      "cell_type": "code",
      "source": [
        "print(testCollatz_Conjecture)\n",
        "verifyCollatzConjecture(int(testCollatz_Conjecture))\n"
      ],
      "metadata": {
        "colab": {
          "base_uri": "https://localhost:8080/",
          "height": 331
        },
        "id": "KmEJ4fFXk-n1",
        "outputId": "a0d540bc-fe3c-4e23-8f10-262789b67164"
      },
      "execution_count": 33,
      "outputs": [
        {
          "output_type": "stream",
          "name": "stdout",
          "text": [
            "16\n"
          ]
        },
        {
          "output_type": "display_data",
          "data": {
            "text/plain": [
              "<Figure size 432x288 with 1 Axes>"
            ],
            "image/png": "[encoded data removed]"
          },
          "metadata": {
            "needs_background": "light"
          }
        },
        {
          "output_type": "execute_result",
          "data": {
            "text/plain": [
              "True"
            ]
          },
          "metadata": {},
          "execution_count": 33
        }
      ]
    },
    {
      "cell_type": "code",
      "source": [
        "def  verifyCollatzConjecture(testnumber):\n",
        "  CollatzList = [4,2,1]\n",
        "  seriesList = []\n",
        "  while (testnumber >1):\n",
        "    if testnumber % 2 == 0:\n",
        "      testnumber = testnumber/2\n",
        "      seriesList.append(testnumber)\n",
        "      #print(testnumber)\n",
        "    else:\n",
        "      testnumber = testnumber*3 +1\n",
        "      seriesList.append(testnumber)\n",
        "      #print(testnumber)\n",
        "  if seriesList[-3:] == CollatzList:\n",
        "    drawCollatzList(seriesList)\n",
        "    return True\n",
        "  else:\n",
        "    return False\n",
        "  \n"
      ],
      "metadata": {
        "id": "xncMzrrrlj-A"
      },
      "execution_count": 30,
      "outputs": []
    },
    {
      "cell_type": "code",
      "source": [
        "import matplotlib.pyplot as plt\n",
        "%matplotlib inline\n",
        "def drawCollatzList(myList):\n",
        "  plt.plot(myList, color='blue' ) \n",
        "  plt.xticks(range(0,len(myList)+1, 1)) \n",
        "  plt.ylabel('myList')\n",
        "  plt.xlabel('CollatzDistribution') \n",
        "  plt.title(\"Collatz Distribution\") \n",
        "  plt.show()"
      ],
      "metadata": {
        "id": "SZEDqOnIq1F5"
      },
      "execution_count": 31,
      "outputs": []
    }
  ]
}