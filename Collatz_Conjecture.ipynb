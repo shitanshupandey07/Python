{
  "nbformat": 4,
  "nbformat_minor": 0,
  "metadata": {
    "colab": {
      "name": "Collatz Conjecture.ipynb",
      "provenance": [],
      "authorship_tag": "ABX9TyN3tUjuSp0QgF1aZCn5AGd1",
      "include_colab_link": true
    },
    "kernelspec": {
      "name": "python3",
      "display_name": "Python 3"
    },
    "language_info": {
      "name": "python"
    }
  },
  "cells": [
    {
      "cell_type": "markdown",
      "metadata": {
        "id": "view-in-github",
        "colab_type": "text"
      },
      "source": [
        "<a href=\"https://colab.research.google.com/github/shitanshupandey07/Python/blob/main/Collatz_Conjecture.ipynb\" target=\"_parent\"><img src=\"https://colab.research.google.com/assets/colab-badge.svg\" alt=\"Open In Colab\"/></a>"
      ]
    },
    {
      "cell_type": "code",
      "execution_count": 3,
      "metadata": {
        "id": "1Pc10ISPhe5s",
        "colab": {
          "base_uri": "https://localhost:8080/"
        },
        "outputId": "cd5379ae-276b-455c-e4c7-6813dfbcd250"
      },
      "outputs": [
        {
          "name": "stdout",
          "output_type": "stream",
          "text": [
            "Please enter a number to check if that ends with 4,2,127\n"
          ]
        }
      ],
      "source": [
        "testCollatz_Conjecture = input(\"Please enter a number to check if that ends with 4,2,1: \\n\")"
      ]
    },
    {
      "cell_type": "code",
      "source": [
        "print(testCollatz_Conjecture)"
      ],
      "metadata": {
        "colab": {
          "base_uri": "https://localhost:8080/"
        },
        "id": "KmEJ4fFXk-n1",
        "outputId": "a25cb1d3-1520-4a4a-8643-d35c0748893d"
      },
      "execution_count": 4,
      "outputs": [
        {
          "output_type": "stream",
          "name": "stdout",
          "text": [
            "27\n"
          ]
        }
      ]
    },
    {
      "cell_type": "code",
      "source": [
        "def bool verifyCollatz_Conjecture(int testnumber):\n",
        "  CollatzList = [1,2,4]\n",
        "  seriesList = []\n",
        "  while (testnumber >1):\n",
        "    if testnumber % 2 == 0:\n",
        "      testnumber = testnumber/2\n",
        "      seriesList.append(testnumber)\n",
        "      print(testnumber)\n",
        "    else:\n",
        "      testnumber = testnumber*3 +1\n",
        "      seriesList.append(testnumber)\n",
        "      print(testnumber)\n",
        "  if seriesList[-1:-4] == CollatzList:\n",
        "    return True\n",
        "  else:\n",
        "    return False\n"
      ],
      "metadata": {
        "id": "xncMzrrrlj-A"
      },
      "execution_count": null,
      "outputs": []
    }
  ]
}