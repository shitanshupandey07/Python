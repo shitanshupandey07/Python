{
  "cells": [
    {
      "cell_type": "markdown",
      "metadata": {
        "id": "pOrSBEmKBmxF"
      },
      "source": []
    },
    {
      "cell_type": "markdown",
      "metadata": {
        "id": "viQmpoh3aBIP"
      },
      "source": [
        "![Cloud-First](https://github.com/tulip-lab/sit742/blob/develop/Jupyter/image/CloudFirst.png?raw=1) \n",
        "\n",
        "\n",
        "\n",
        "# SIT742: Modern Data Science\n",
        "**(Module: Python Foundations for Big Data)**\n",
        "\n",
        "---\n",
        "- Materials in this module include resources collected from various open-source online repositories.\n",
        "- You are free to use, change and distribute this package.\n",
        "- If you found any issue/bug for this document, please submit an issue at [tulip-lab/sit742](https://github.com/tulip-lab/sit742/issues)\n",
        "\n",
        "\n",
        "Prepared by **SIT742 Teaching Team**\n",
        "\n",
        "---\n",
        "\n",
        "\n",
        "## Session 2F: File usage \n",
        "\n",
        "We will look at how to create, read, and write files in *Python*. \n",
        "We have obtained data via interaction with users in previous prac. Now let us \n",
        "explore how to deal with files to get input of a program and write \n",
        "output that can be used later. \n",
        "\n",
        "## Table of Content\n",
        "\n",
        "### Files\n",
        "\n",
        "1.1 [Reading files](#cell_read)\n",
        "\n",
        "1.2 [Writing files](#cell_write)\n",
        "\n",
        "### CSV Files\n",
        "\n",
        "2.1 [Read](#cell_list)\n",
        "\n",
        "2.2 [Write](#cell_tuple) \n",
        "\n"
      ]
    },
    {
      "cell_type": "markdown",
      "metadata": {
        "id": "7mpkvTSRBmyd"
      },
      "source": [
        "## Files\n",
        "\n",
        "### 1.1 Reading files\n",
        "\n",
        "\n",
        "You can open and use files for reading or writing by creating an object of the *file class*.  The *mode* that is specified for the file opening decides what you can do with the file: read, write or both. Then the file object's  **read()** or **write()** method can  be used to read from or write to the file. Finally, when you are finished with the file, you call the **close()** method to tell Python that you are done using the file. \n",
        "\n",
        "Here is an example. You can use the data file **score.txt**, which includes  data on students' score. The format of the data file is as follows:"
      ]
    },
    {
      "cell_type": "markdown",
      "metadata": {
        "id": "umZfjIPxaBIQ"
      },
      "source": [
        "Name, Student ID, Score   \n",
        "David 3402 80   \n",
        "Jane 3403 76    \n",
        "Sophia 3405 65    \n",
        "Jane 3447 92   \n",
        "William 3456 75   "
      ]
    },
    {
      "cell_type": "markdown",
      "metadata": {
        "id": "zX0btCtSBmye"
      },
      "source": [
        "For Online platforms such as Google Colab, it is important for you to get familiar with the provided data storage or cloud data storage function. Alternatively, you might want to directly access the file, and load into your Notebook."
      ]
    },
    {
      "cell_type": "code",
      "execution_count": 1,
      "metadata": {
        "colab": {
          "base_uri": "https://localhost:8080/"
        },
        "id": "IFG5yfANBmyf",
        "outputId": "dbc1dfc2-30f8-47d1-bcbc-77714920c674"
      },
      "outputs": [
        {
          "output_type": "stream",
          "name": "stdout",
          "text": [
            "Looking in indexes: https://pypi.org/simple, https://us-python.pkg.dev/colab-wheels/public/simple/\n",
            "Collecting wget\n",
            "  Downloading wget-3.2.zip (10 kB)\n",
            "Building wheels for collected packages: wget\n",
            "  Building wheel for wget (setup.py) ... \u001b[?25l\u001b[?25hdone\n",
            "  Created wheel for wget: filename=wget-3.2-py3-none-any.whl size=9675 sha256=6fa3b60df36eeec31d4d364a241e2597b425e5503ae98e384653c526e34c5364\n",
            "  Stored in directory: /root/.cache/pip/wheels/a1/b6/7c/0e63e34eb06634181c63adacca38b79ff8f35c37e3c13e3c02\n",
            "Successfully built wget\n",
            "Installing collected packages: wget\n",
            "Successfully installed wget-3.2\n"
          ]
        }
      ],
      "source": [
        "!pip install wget"
      ]
    },
    {
      "cell_type": "markdown",
      "metadata": {
        "id": "U5ixu3VUBmyh"
      },
      "source": [
        "Then you can download the file into GPFS file system."
      ]
    },
    {
      "cell_type": "code",
      "execution_count": 2,
      "metadata": {
        "colab": {
          "base_uri": "https://localhost:8080/"
        },
        "id": "mZz9001yBmyh",
        "outputId": "5f2727a1-cb20-4ca4-f4e5-6f4af27e489a"
      },
      "outputs": [
        {
          "output_type": "stream",
          "name": "stdout",
          "text": [
            "score.txt\n"
          ]
        }
      ],
      "source": [
        "import wget\n",
        "\n",
        "link_to_data = 'https://github.com/tulip-lab/sit742/raw/master/Jupyter/data/score.txt'\n",
        "DataSet = wget.download(link_to_data)\n",
        "\n",
        "print(DataSet)"
      ]
    },
    {
      "cell_type": "markdown",
      "metadata": {
        "id": "D5NLUAxoBmyj"
      },
      "source": [
        "The following example  read from the **.txt** file and display information on the screen. Please type the code and run it under script mode. Make sure **score.txt** are saved under your **data** folder."
      ]
    },
    {
      "cell_type": "code",
      "execution_count": 3,
      "metadata": {
        "colab": {
          "base_uri": "https://localhost:8080/"
        },
        "id": "fGWLZazQBmyj",
        "outputId": "e904906d-1cb4-4a9c-8e6a-279b8dae05ee"
      },
      "outputs": [
        {
          "output_type": "stream",
          "name": "stdout",
          "text": [
            "David with ID 3402 has a score of 80\n",
            "Jane with ID 3403 has a score of 76\n",
            "Sophia with ID 3405 has a score of 65\n",
            "Jane with ID 3447 has a score of 92\n",
            "William with ID 3456 has a score of 75\n"
          ]
        }
      ],
      "source": [
        "# scorefile = open('https://raw.githubusercontent.com/tulip-lab/sit742/master/Jupyter/data/score.txt','r')\n",
        "\n",
        "scorefile = open('score.txt','r')\n",
        "\n",
        "for line in scorefile:\n",
        "    value = line.split()\n",
        "    name = value[0]\n",
        "    id = value[1]\n",
        "    score = value[2]\n",
        "    print('%s with ID %s has a score of %s' % (name, id, score))\n"
      ]
    },
    {
      "cell_type": "markdown",
      "metadata": {
        "id": "TM_kpY_3Bmyl"
      },
      "source": [
        "How the program works:\n",
        "1. The **open()** function is used to open a file. You need to specify the name of the file and the mode in which you want to open the file. The mode can be read mode('r'), write mode('w') or append mode('a'). There are actually many more modes available. You can get more details by create a cell and typing \"\"open\"\". Please try this in your notebook. When we finish working on the file, we  need to close the file using **close()** method. \n",
        "\n",
        "\t\n",
        "2. To process all of the data, we use a **for** loop to iterate over the lines of the file. The **line** variable is a string that is used to store characters in each line.\n",
        "\t \n",
        "     \n",
        "3. We use the **split()** method to break each line into a list containing all the fields of interest. We can then take the value corresponding to **name**, **id** and **score** and  print them in the sentence. To get each data item in a list, we use index with the list. e.g. values[0] will return the item of position 0 in the list.  Note that in Python the position of items in a list is starting from $0$. "
      ]
    },
    {
      "cell_type": "markdown",
      "metadata": {
        "id": "WrvvbEHYBmyl"
      },
      "source": [
        "### 1.2. Writing to files\n",
        "\n",
        "One of the most commonly performed data processing tasks is to read data from a file, manipulate it in some way and then write the resulting data out to a new data file to be used for other purpose later. For creating a new file used for writing, the same **open()** function is used. Instead using 'r' mode, 'w' mode is used as the parameter. When we open a file for writing, a new, empty file with the specified  name is created and ready to accept our data. \n",
        "\n",
        "As an example, consider the **score.txt** data again. Assume we have request to remove the name information in the file for privacy issue. Therefore, the output file need  to have student ID with the scores separated by a comma.  Here is how we can generate the required file. "
      ]
    },
    {
      "cell_type": "code",
      "execution_count": 4,
      "metadata": {
        "id": "WIgxvy2sBmym"
      },
      "outputs": [],
      "source": [
        "infile = open('score.txt', 'r')\n",
        "outfile = open('id.txt', 'w')\n",
        "\n",
        "for line in infile:\n",
        "    values = line.split()\n",
        "    id = values[1]\n",
        "    score = values[2]\n",
        "    dataline = id + ',' + score\n",
        "\n",
        "    outfile.write(dataline + '\\n')\n",
        "\n",
        "infile.close()\n",
        "outfile.close()\n"
      ]
    },
    {
      "cell_type": "markdown",
      "metadata": {
        "id": "dvGy8vFIzRxR"
      },
      "source": [
        "You can use the `print()` to print file content on the console."
      ]
    },
    {
      "cell_type": "code",
      "execution_count": 5,
      "metadata": {
        "colab": {
          "base_uri": "https://localhost:8080/"
        },
        "id": "MINqoph9XTB1",
        "outputId": "274ef2c1-6f3c-4aab-91c0-8a31ad9eb520"
      },
      "outputs": [
        {
          "output_type": "stream",
          "name": "stdout",
          "text": [
            "3402,80\n",
            "3403,76\n",
            "3405,65\n",
            "3447,92\n",
            "3456,75\n",
            "\n"
          ]
        },
        {
          "output_type": "execute_result",
          "data": {
            "text/plain": [
              "<function TextIOWrapper.close()>"
            ]
          },
          "metadata": {},
          "execution_count": 5
        }
      ],
      "source": [
        "f=open('id.txt', 'r')\n",
        "message=f.read()\n",
        "print(message)\n",
        "f.close"
      ]
    },
    {
      "cell_type": "markdown",
      "metadata": {
        "id": "PmDqWJ_EBmyo"
      },
      "source": [
        "\n",
        "How the program works:\n",
        "\n",
        "1. We have add another **open()** method with 'w' mode. The filename **id.txt** is chosen  to store the data. If the file does not exist, it will be created. However, if the file does exist, it will be reinitialized and empty,  and any previous contents will be lost \n",
        "2. We have variable **dataline** to store what need to be write in the file. If you like, you can add \ta line **print(dataline)** to check the string value. We then call function **write()** method to write  **dataline** into the file.\n",
        "3. There is one additional part we need to add when writing to file. The newline character **\\n** need to be concatenated to the end of the line. Otherwise,  the text will be all in one continuous line.  \n",
        "\t\n",
        "4. The file needs to be closed at the end.  \n"
      ]
    },
    {
      "cell_type": "markdown",
      "metadata": {
        "id": "4Xu7rvCrBmyp"
      },
      "source": [
        "<a id = \"cell_list\"></a>"
      ]
    },
    {
      "cell_type": "markdown",
      "metadata": {
        "id": "ZXxkKq8eBmyq"
      },
      "source": [
        "## CSV Files\n",
        "\n",
        "\n",
        "In this part, we will see how to read and write data from **`CSV`** file. *CSV (Comma Separated Values)* format is the most common import and export format for **speadsheets** and databases. With knowledge from above part, we should be  able to open  **CSV** file as normal text file, loop over the lines, and use **split** method to get individual columns. \n",
        "However, we will in this prac learn to use a *`Python`* built-in module, *CSV*, to simplify the whole process. \n",
        "\n",
        "\n",
        "### Import CSV module\n",
        "\n",
        "As mentioned earlier, Python provides a **csv** module which makes it easier to deal with **csv**  file. A *module* is a program file that contains a collection of related functions. Before we can use the module, we have  to add the following line at the beginning of our program to import the module. \n",
        "               "
      ]
    },
    {
      "cell_type": "code",
      "execution_count": 6,
      "metadata": {
        "id": "E7e8UuwGBmyq"
      },
      "outputs": [],
      "source": [
        "import csv\n"
      ]
    },
    {
      "cell_type": "code",
      "source": [
        "\n",
        "link_to_data = 'https://raw.githubusercontent.com/tulip-lab/sit742/master/Jupyter/data/score.csv'\n",
        "DataSet = wget.download(link_to_data)"
      ],
      "metadata": {
        "id": "dxfi9ToJa64G"
      },
      "execution_count": 9,
      "outputs": []
    },
    {
      "cell_type": "markdown",
      "metadata": {
        "id": "j7ruHjt3Bmy0"
      },
      "source": [
        "### Read  CSV file \n",
        "\n",
        "To read data from a **csv** file, use the **reader()** function to create a reader object. The **reader** function will take each line of the file and make a list containing all that line's columns. The following example reads the file and prints items on each row.  \n",
        "\n",
        "Please download **[score.csv](https://github.com/tulip-lab/sit742/raw/master/Jupyter/data/score.csv)** file before running the following program."
      ]
    },
    {
      "cell_type": "code",
      "execution_count": 11,
      "metadata": {
        "id": "ZPBskc2MaBIX",
        "outputId": "98879229-824d-4b0e-b406-81e1349528f8",
        "colab": {
          "base_uri": "https://localhost:8080/"
        }
      },
      "outputs": [
        {
          "output_type": "stream",
          "name": "stdout",
          "text": [
            "David 3402 80\n",
            "Jane 3403 76\n",
            "Sophia 3405 65\n",
            "Jane 3447 92\n",
            "William 3456 75\n"
          ]
        }
      ],
      "source": [
        "infile = open('score.csv','r')\n",
        "incsv = csv.reader(infile, delimiter = ',')\n",
        "\n",
        "rowNum = 0\n",
        "for row in incsv:\n",
        "    if rowNum != 0:   \n",
        "        # if this is not the first row      \n",
        "        id, name, score = row\n",
        "        print(\"%s %s %s\" % (id, name, score))\n",
        "    rowNum += 1\n",
        "\n",
        "infile.close()  "
      ]
    },
    {
      "cell_type": "markdown",
      "metadata": {
        "id": "ox2sP3NmaBIX"
      },
      "source": [
        "How it works:\n",
        "\n",
        "1.  The **open()** function  opens the **csv** file useing flag \"r\". \n",
        "\t\n",
        "2.  We use **csv.reader** to refer to the **reader()** function in the **csv** module. Inside the parentheses of the function, we also indicated that the **csv** file uses *comma* as a *delimiter*.  \n",
        "\t\t\n",
        "3. Within the **for** loop, each row that is read from the file are stored into variable **row**, which represents a list of strings. The items of the list are then  assigned to individual variables for further processing. \n",
        "\n",
        "4. The **if** statement in the **for** loop is used to skip the header row. Since we do not need the information in the header row, this row is simply skipped. \n",
        "\n",
        "5. Notice that the following lines are needed to initialize **rowNum** and  increment its value. \n"
      ]
    },
    {
      "cell_type": "markdown",
      "metadata": {
        "id": "9nZ7Si4SaBIX"
      },
      "source": [
        ">...\n",
        ">\trowNum = 0\n",
        ">\t\n",
        ">  for row in incsv\n",
        ">\t\t\n",
        ">     ...\n",
        ">\t\t\n",
        ">   rowNum += 1\n",
        ">...\t\t"
      ]
    },
    {
      "cell_type": "markdown",
      "metadata": {
        "id": "4hVYxonjaBIX"
      },
      "source": [
        "### Write CSV file\n",
        "\n",
        "To write `CSV` files,  use **writer()** to create an object for writing, then iterate over the rows using **writerow()** to print them. Note in the following example, **id** and **score** are first stored in **rowOutput**, which represents a list of string. Then the list `rowOutput`  is passed to **writerow()** method so that values of **id** and **score** can be written to the file. "
      ]
    },
    {
      "cell_type": "code",
      "execution_count": 13,
      "metadata": {
        "id": "JNi5096caBIX"
      },
      "outputs": [],
      "source": [
        "import csv\n",
        "\n",
        "infile = open(\"score.csv\", \"r\")\n",
        "incsv = csv.reader(infile, delimiter = ',')\n",
        "outfile = open(\"id.csv\", \"w\")\n",
        "outcsv = csv.writer(outfile, delimiter=',')\n",
        "\n",
        "rowNum = 0\n",
        "for row in incsv:\n",
        "    if rowNum != 0:         # skip first row\n",
        "        id, name, score = row\n",
        "        rowOutput = [id, score]\n",
        "        outcsv.writerow(rowOutput) \n",
        "    rowNum += 1\n",
        "\n",
        "infile.close()\n",
        "outfile.close()"
      ]
    },
    {
      "cell_type": "code",
      "source": [
        "infile = open(\"score.csv\", \"r\")\n",
        "incsv = csv.reader(infile, delimiter = ',')\n",
        "outfile = open(\"onlyNames.csv\", \"w\")\n",
        "outcsv = csv.writer(outfile, delimiter=',')\n",
        "\n",
        "rowNum = 0\n",
        "for row in incsv:\n",
        "    if rowNum != 0:         # skip first row\n",
        "        name, id, score = row\n",
        "        rowOutput = [name]\n",
        "        outcsv.writerow(rowOutput) \n",
        "    rowNum += 1\n",
        "\n",
        "infile.close()\n",
        "outfile.close()"
      ],
      "metadata": {
        "id": "eHXi27a_bNEK"
      },
      "execution_count": 16,
      "outputs": []
    }
  ],
  "metadata": {
    "colab": {
      "collapsed_sections": [
        "J5V62gWWBmxg",
        "ySAgg2-5BmyO",
        "zSrk7ffZBmyV",
        "Ry-Vx12jBmyb",
        "kBsd3dhuBm0Q",
        "Posmxo-aBm0c",
        "svAgKRIMBm0l",
        "P7Te1xa1Bm0o"
      ],
      "name": "M02F-Files.ipynb",
      "provenance": []
    },
    "kernelspec": {
      "display_name": "Python 3",
      "language": "python",
      "name": "python3"
    },
    "language_info": {
      "codemirror_mode": {
        "name": "ipython",
        "version": 3
      },
      "file_extension": ".py",
      "mimetype": "text/x-python",
      "name": "python",
      "nbconvert_exporter": "python",
      "pygments_lexer": "ipython3",
      "version": "3.6.4"
    }
  },
  "nbformat": 4,
  "nbformat_minor": 0
}